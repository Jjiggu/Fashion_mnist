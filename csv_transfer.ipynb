{
 "cells": [
  {
   "cell_type": "code",
   "execution_count": 1,
   "outputs": [],
   "source": [
    "import cv2\n",
    "import numpy as np\n",
    "import os"
   ],
   "metadata": {
    "collapsed": false,
    "pycharm": {
     "name": "#%%\n"
    }
   }
  },
  {
   "cell_type": "code",
   "execution_count": 76,
   "outputs": [
    {
     "ename": "ValueError",
     "evalue": "could not convert string to float: '\\ufeff2'",
     "output_type": "error",
     "traceback": [
      "\u001B[0;31m---------------------------------------------------------------------------\u001B[0m",
      "\u001B[0;31mValueError\u001B[0m                                Traceback (most recent call last)",
      "Input \u001B[0;32mIn [76]\u001B[0m, in \u001B[0;36m<cell line: 3>\u001B[0;34m()\u001B[0m\n\u001B[1;32m      1\u001B[0m \u001B[38;5;66;03m#train = np.loadtxt('csv/fashion-mnist_train.csv', delimiter=',', dtype=np.uint8)\u001B[39;00m\n\u001B[1;32m      2\u001B[0m \u001B[38;5;66;03m#train_label = np.loadtxt('csv/train_label.csv', delimiter=',', dtype=np.uint8, encoding='utf-8-sig')\u001B[39;00m\n\u001B[0;32m----> 3\u001B[0m train_label \u001B[38;5;241m=\u001B[39m \u001B[43mnp\u001B[49m\u001B[38;5;241;43m.\u001B[39;49m\u001B[43mloadtxt\u001B[49m\u001B[43m(\u001B[49m\u001B[38;5;124;43m'\u001B[39;49m\u001B[38;5;124;43mcsv/train_label.csv\u001B[39;49m\u001B[38;5;124;43m'\u001B[39;49m\u001B[43m,\u001B[49m\u001B[43m \u001B[49m\u001B[43mdelimiter\u001B[49m\u001B[38;5;241;43m=\u001B[39;49m\u001B[38;5;124;43m'\u001B[39;49m\u001B[38;5;124;43m,\u001B[39;49m\u001B[38;5;124;43m'\u001B[39;49m\u001B[43m,\u001B[49m\u001B[43m \u001B[49m\u001B[43mdtype\u001B[49m\u001B[38;5;241;43m=\u001B[39;49m\u001B[43mnp\u001B[49m\u001B[38;5;241;43m.\u001B[39;49m\u001B[43muint8\u001B[49m\u001B[43m)\u001B[49m\n",
      "File \u001B[0;32m~/miniforge3/envs/tf/lib/python3.8/site-packages/numpy/lib/npyio.py:1148\u001B[0m, in \u001B[0;36mloadtxt\u001B[0;34m(fname, dtype, comments, delimiter, converters, skiprows, usecols, unpack, ndmin, encoding, max_rows, like)\u001B[0m\n\u001B[1;32m   1143\u001B[0m \u001B[38;5;66;03m# read data in chunks and fill it into an array via resize\u001B[39;00m\n\u001B[1;32m   1144\u001B[0m \u001B[38;5;66;03m# over-allocating and shrinking the array later may be faster but is\u001B[39;00m\n\u001B[1;32m   1145\u001B[0m \u001B[38;5;66;03m# probably not relevant compared to the cost of actually reading and\u001B[39;00m\n\u001B[1;32m   1146\u001B[0m \u001B[38;5;66;03m# converting the data\u001B[39;00m\n\u001B[1;32m   1147\u001B[0m X \u001B[38;5;241m=\u001B[39m \u001B[38;5;28;01mNone\u001B[39;00m\n\u001B[0;32m-> 1148\u001B[0m \u001B[38;5;28;01mfor\u001B[39;00m x \u001B[38;5;129;01min\u001B[39;00m read_data(_loadtxt_chunksize):\n\u001B[1;32m   1149\u001B[0m     \u001B[38;5;28;01mif\u001B[39;00m X \u001B[38;5;129;01mis\u001B[39;00m \u001B[38;5;28;01mNone\u001B[39;00m:\n\u001B[1;32m   1150\u001B[0m         X \u001B[38;5;241m=\u001B[39m np\u001B[38;5;241m.\u001B[39marray(x, dtype)\n",
      "File \u001B[0;32m~/miniforge3/envs/tf/lib/python3.8/site-packages/numpy/lib/npyio.py:999\u001B[0m, in \u001B[0;36mloadtxt.<locals>.read_data\u001B[0;34m(chunk_size)\u001B[0m\n\u001B[1;32m    995\u001B[0m     \u001B[38;5;28;01mraise\u001B[39;00m \u001B[38;5;167;01mValueError\u001B[39;00m(\u001B[38;5;124m\"\u001B[39m\u001B[38;5;124mWrong number of columns at line \u001B[39m\u001B[38;5;132;01m%d\u001B[39;00m\u001B[38;5;124m\"\u001B[39m\n\u001B[1;32m    996\u001B[0m                      \u001B[38;5;241m%\u001B[39m line_num)\n\u001B[1;32m    998\u001B[0m \u001B[38;5;66;03m# Convert each value according to its column and store\u001B[39;00m\n\u001B[0;32m--> 999\u001B[0m items \u001B[38;5;241m=\u001B[39m [conv(val) \u001B[38;5;28;01mfor\u001B[39;00m (conv, val) \u001B[38;5;129;01min\u001B[39;00m \u001B[38;5;28mzip\u001B[39m(converters, vals)]\n\u001B[1;32m   1001\u001B[0m \u001B[38;5;66;03m# Then pack it according to the dtype's nesting\u001B[39;00m\n\u001B[1;32m   1002\u001B[0m items \u001B[38;5;241m=\u001B[39m pack_items(items, packing)\n",
      "File \u001B[0;32m~/miniforge3/envs/tf/lib/python3.8/site-packages/numpy/lib/npyio.py:999\u001B[0m, in \u001B[0;36m<listcomp>\u001B[0;34m(.0)\u001B[0m\n\u001B[1;32m    995\u001B[0m     \u001B[38;5;28;01mraise\u001B[39;00m \u001B[38;5;167;01mValueError\u001B[39;00m(\u001B[38;5;124m\"\u001B[39m\u001B[38;5;124mWrong number of columns at line \u001B[39m\u001B[38;5;132;01m%d\u001B[39;00m\u001B[38;5;124m\"\u001B[39m\n\u001B[1;32m    996\u001B[0m                      \u001B[38;5;241m%\u001B[39m line_num)\n\u001B[1;32m    998\u001B[0m \u001B[38;5;66;03m# Convert each value according to its column and store\u001B[39;00m\n\u001B[0;32m--> 999\u001B[0m items \u001B[38;5;241m=\u001B[39m [\u001B[43mconv\u001B[49m\u001B[43m(\u001B[49m\u001B[43mval\u001B[49m\u001B[43m)\u001B[49m \u001B[38;5;28;01mfor\u001B[39;00m (conv, val) \u001B[38;5;129;01min\u001B[39;00m \u001B[38;5;28mzip\u001B[39m(converters, vals)]\n\u001B[1;32m   1001\u001B[0m \u001B[38;5;66;03m# Then pack it according to the dtype's nesting\u001B[39;00m\n\u001B[1;32m   1002\u001B[0m items \u001B[38;5;241m=\u001B[39m pack_items(items, packing)\n",
      "File \u001B[0;32m~/miniforge3/envs/tf/lib/python3.8/site-packages/numpy/lib/npyio.py:746\u001B[0m, in \u001B[0;36m_getconv.<locals>.<lambda>\u001B[0;34m(x)\u001B[0m\n\u001B[1;32m    744\u001B[0m     \u001B[38;5;28;01mreturn\u001B[39;00m np\u001B[38;5;241m.\u001B[39mint64\n\u001B[1;32m    745\u001B[0m \u001B[38;5;28;01mif\u001B[39;00m \u001B[38;5;28missubclass\u001B[39m(typ, np\u001B[38;5;241m.\u001B[39minteger):\n\u001B[0;32m--> 746\u001B[0m     \u001B[38;5;28;01mreturn\u001B[39;00m \u001B[38;5;28;01mlambda\u001B[39;00m x: \u001B[38;5;28mint\u001B[39m(\u001B[38;5;28;43mfloat\u001B[39;49m\u001B[43m(\u001B[49m\u001B[43mx\u001B[49m\u001B[43m)\u001B[49m)\n\u001B[1;32m    747\u001B[0m \u001B[38;5;28;01melif\u001B[39;00m \u001B[38;5;28missubclass\u001B[39m(typ, np\u001B[38;5;241m.\u001B[39mlongdouble):\n\u001B[1;32m    748\u001B[0m     \u001B[38;5;28;01mreturn\u001B[39;00m np\u001B[38;5;241m.\u001B[39mlongdouble\n",
      "\u001B[0;31mValueError\u001B[0m: could not convert string to float: '\\ufeff2'"
     ]
    }
   ],
   "source": [
    "train = np.loadtxt('csv/fashion-mnist_train.csv', delimiter=',', dtype=np.uint8)\n",
    "train_label = np.loadtxt('csv/train_label.csv', delimiter=',', dtype=np.uint8, encoding='utf-8-sig')"
   ],
   "metadata": {
    "collapsed": false,
    "pycharm": {
     "name": "#%%\n"
    }
   }
  },
  {
   "cell_type": "code",
   "execution_count": 70,
   "outputs": [],
   "source": [
    "train_reshape = train.reshape(60000, 28, 28)"
   ],
   "metadata": {
    "collapsed": false,
    "pycharm": {
     "name": "#%%\n"
    }
   }
  },
  {
   "cell_type": "code",
   "execution_count": 71,
   "outputs": [],
   "source": [
    "def createDirectory(directory):\n",
    "    try:\n",
    "        if not os.path.exists(directory):\n",
    "            os.makedirs(directory)\n",
    "    except OSError:\n",
    "        print(\"Error: Failed to create the directory.\")"
   ],
   "metadata": {
    "collapsed": false,
    "pycharm": {
     "name": "#%%\n"
    }
   }
  },
  {
   "cell_type": "code",
   "execution_count": 72,
   "outputs": [],
   "source": [
    "ok_lab = [0, 1, 2, 3, 4, 5, 6, 7, 8, 9]\n",
    "i=1\t# 파일명을 다르게 지정하기 위한 변수\n",
    "\n",
    "for img, lab in zip(train_reshape, train_label):\n",
    "  if lab in ok_lab:\n",
    "    # 256x256 resize, 보간법 적용\n",
    "    img_resize = cv2.resize(img, dsize=(256,256), interpolation=cv2.INTER_CUBIC)\n",
    "\n",
    "    # 선명하게 만들기\n",
    "    kernel = np.array([[0, -1, 0],\n",
    "                      [-1, 5, -1],\n",
    "                      [0, -1, 0]])\n",
    "    img_sharp = cv2.filter2D(img_resize, -1, kernel)\n",
    "\n",
    "    # file dir 생성\n",
    "    createDirectory('Img_data/train')\n",
    "    img_path = './Img_data/train'\n",
    "\n",
    "    # 파일명 ex : 0_1.jpg\n",
    "    if lab == 0:\n",
    "        createDirectory(img_path+'/T-shirt-top/')\n",
    "        cv2.imwrite(img_path + '/T-shirt-top/' +str(lab) + '_' + str(i)+'.jpg', img_sharp)\n",
    "    elif lab == 1:\n",
    "        createDirectory(img_path+'/Trouser/')\n",
    "        cv2.imwrite(img_path + '/Trouser/' +str(lab) + '_' + str(i)+'.jpg', img_sharp)\n",
    "    elif lab == 2:\n",
    "        createDirectory(img_path+'/Pullover/')\n",
    "        cv2.imwrite(img_path + '/Pullover/' +str(lab) + '_' + str(i)+'.jpg', img_sharp)\n",
    "    elif lab == 3:\n",
    "        createDirectory(img_path+'/Dress/')\n",
    "        cv2.imwrite(img_path + '/Dress/' +str(lab) + '_' + str(i)+'.jpg', img_sharp)\n",
    "    elif lab == 4:\n",
    "        createDirectory(img_path+'/Coat/')\n",
    "        cv2.imwrite(img_path + '/Coat/' +str(lab) + '_' + str(i)+'.jpg', img_sharp)\n",
    "    elif lab == 5:\n",
    "        createDirectory(img_path+'/Sandal/')\n",
    "        cv2.imwrite(img_path + '/Sandal/' +str(lab) + '_' + str(i)+'.jpg', img_sharp)\n",
    "    elif lab == 6:\n",
    "        createDirectory(img_path+'/Shirt/')\n",
    "        cv2.imwrite(img_path + '/Shirt/' +str(lab) + '_' + str(i)+'.jpg', img_sharp)\n",
    "    elif lab == 7:\n",
    "        createDirectory(img_path+'/Sneaker/')\n",
    "        cv2.imwrite(img_path + '/Sneaker/' +str(lab) + '_' + str(i)+'.jpg', img_sharp)\n",
    "    elif lab == 8:\n",
    "        createDirectory(img_path+'/Bag/')\n",
    "        cv2.imwrite(img_path + '/Bag/' +str(lab) + '_' + str(i)+'.jpg', img_sharp)\n",
    "    elif lab == 9:\n",
    "        createDirectory(img_path+'/Ankle boot/')\n",
    "        cv2.imwrite(img_path + '/Ankle boot/' +str(lab) + '_' + str(i)+'.jpg', img_sharp)\n",
    "    else:\n",
    "        cv2.imwrite(img_path + '/else/' +str(lab) + '_' + str(i)+'.jpg', img_sharp)\n",
    "\n",
    "  i += 1"
   ],
   "metadata": {
    "collapsed": false,
    "pycharm": {
     "name": "#%%\n"
    }
   }
  },
  {
   "cell_type": "code",
   "execution_count": 73,
   "outputs": [],
   "source": [
    "test = np.loadtxt('csv/fashion-mnist_test.csv', delimiter=',', dtype=np.uint8)\n",
    "test_label = np.loadtxt('csv/test_label.csv', delimiter=',', dtype=np.uint8)"
   ],
   "metadata": {
    "collapsed": false,
    "pycharm": {
     "name": "#%%\n"
    }
   }
  },
  {
   "cell_type": "code",
   "execution_count": 74,
   "outputs": [],
   "source": [
    "test_reshape = test.reshape(10000, 28, 28)"
   ],
   "metadata": {
    "collapsed": false,
    "pycharm": {
     "name": "#%%\n"
    }
   }
  },
  {
   "cell_type": "code",
   "execution_count": 75,
   "outputs": [],
   "source": [
    "ok_lab = [0, 1, 2, 3, 4, 5, 6, 7, 8, 9]\n",
    "i=1\t# 파일명을 다르게 지정하기 위한 변수\n",
    "\n",
    "for img, lab in zip(test_reshape, test_label):\n",
    "  if lab in ok_lab:\n",
    "    # 256x256 resize, 보간법 적용\n",
    "    img_resize = cv2.resize(img, dsize=(256,256), interpolation=cv2.INTER_CUBIC)\n",
    "\n",
    "    # 선명하게 만들기\n",
    "    kernel = np.array([[0, -1, 0],\n",
    "                      [-1, 5, -1],\n",
    "                      [0, -1, 0]])\n",
    "    img_sharp = cv2.filter2D(img_resize, -1, kernel)\n",
    "\n",
    "    createDirectory('Img_data/test')\n",
    "    img_path = './Img_data/test'\n",
    "    #cv2.imwrite(img_file + str(lab) + '_' + str(i)+'.jpg', img_sharp)\t# 파일명 ex : 0_1.jpg\n",
    "\n",
    "\n",
    "    if lab == 0:\n",
    "        createDirectory(img_path+'/T-shirt-top/')\n",
    "        cv2.imwrite(img_path + '/T-shirt-top/' +str(lab) + '_' + str(i)+'.jpg', img_sharp)\n",
    "    elif lab == 1:\n",
    "        createDirectory(img_path+'/Trouser/')\n",
    "        cv2.imwrite(img_path + '/Trouser/' +str(lab) + '_' + str(i)+'.jpg', img_sharp)\n",
    "    elif lab == 2:\n",
    "        createDirectory(img_path+'/Pullover/')\n",
    "        cv2.imwrite(img_path + '/Pullover/' +str(lab) + '_' + str(i)+'.jpg', img_sharp)\n",
    "    elif lab == 3:\n",
    "        createDirectory(img_path+'/Dress/')\n",
    "        cv2.imwrite(img_path + '/Dress/' +str(lab) + '_' + str(i)+'.jpg', img_sharp)\n",
    "    elif lab == 4:\n",
    "        createDirectory(img_path+'/Coat/')\n",
    "        cv2.imwrite(img_path + '/Coat/' +str(lab) + '_' + str(i)+'.jpg', img_sharp)\n",
    "    elif lab == 5:\n",
    "        createDirectory(img_path+'/Sandal/')\n",
    "        cv2.imwrite(img_path + '/Sandal/' +str(lab) + '_' + str(i)+'.jpg', img_sharp)\n",
    "    elif lab == 6:\n",
    "        createDirectory(img_path+'/Shirt/')\n",
    "        cv2.imwrite(img_path + '/Shirt/' +str(lab) + '_' + str(i)+'.jpg', img_sharp)\n",
    "    elif lab == 7:\n",
    "        createDirectory(img_path+'/Sneaker/')\n",
    "        cv2.imwrite(img_path + '/Sneaker/' +str(lab) + '_' + str(i)+'.jpg', img_sharp)\n",
    "    elif lab == 8:\n",
    "        createDirectory(img_path+'/Bag/')\n",
    "        cv2.imwrite(img_path + '/Bag/' +str(lab) + '_' + str(i)+'.jpg', img_sharp)\n",
    "    elif lab == 9:\n",
    "        createDirectory(img_path+'/Ankle boot/')\n",
    "        cv2.imwrite(img_path + '/Ankle boot/' +str(lab) + '_' + str(i)+'.jpg', img_sharp)\n",
    "    else:\n",
    "        cv2.imwrite(img_path + '/else/' +str(lab) + '_' + str(i)+'.jpg', img_sharp)\n",
    "\n",
    "  i += 1"
   ],
   "metadata": {
    "collapsed": false,
    "pycharm": {
     "name": "#%%\n"
    }
   }
  },
  {
   "cell_type": "markdown",
   "source": [
    "# PIL을 이용한 img 변환"
   ],
   "metadata": {
    "collapsed": false,
    "pycharm": {
     "name": "#%% md\n"
    }
   }
  },
  {
   "cell_type": "code",
   "execution_count": null,
   "outputs": [],
   "source": [
    "from PIL import Image\n",
    "import os\n",
    "\n",
    "import datetime\n",
    "import numpy as np\n",
    "import tensorflow as tf\n",
    "import matplotlib.pyplot as plt\n",
    "plt.style.use('seaborn-white')\n",
    "\n",
    "from tensorflow.keras import Model\n",
    "from tensorflow.keras.models import Sequential\n",
    "from tensorflow.keras.utils import to_categorical\n",
    "from tensorflow.keras.datasets.fashion_mnist import load_data\n",
    "from tensorflow.keras.preprocessing.image import ImageDataGenerator\n",
    "from tensorflow.keras.layers import Dense, Flatten, Conv2D, MaxPool2D, Dropout, Input"
   ],
   "metadata": {
    "collapsed": false,
    "pycharm": {
     "name": "#%%\n"
    }
   }
  },
  {
   "cell_type": "code",
   "execution_count": null,
   "outputs": [],
   "source": [
    "def createDirectory(directory):\n",
    "    try:\n",
    "        if not os.path.exists(directory):\n",
    "            os.makedirs(directory)\n",
    "    except OSError:\n",
    "        print(\"Error: Failed to create the directory.\")\n"
   ],
   "metadata": {
    "collapsed": false,
    "pycharm": {
     "name": "#%%\n"
    }
   }
  },
  {
   "cell_type": "code",
   "execution_count": null,
   "outputs": [],
   "source": [
    "(x_train, y_train), (x_test, y_test) = load_data()\n",
    "\n",
    "# 축 추가\n",
    "#x_train = x_train[..., np.newaxis]\n",
    "#x_test = x_test[..., np.newaxis]\n",
    "\n",
    "# image resize (0~1사이의 값으로)\n",
    "#x_train = x_train / 255.\n",
    "#x_test = x_test / 255.\n",
    "\n",
    "print(x_train.shape)\n",
    "print(y_train.shape)\n",
    "print(x_test.shape)\n",
    "print(y_test.shape)"
   ],
   "metadata": {
    "collapsed": false,
    "pycharm": {
     "name": "#%%\n"
    }
   }
  },
  {
   "cell_type": "markdown",
   "source": [
    "## train img dir 생성 및 img 생성"
   ],
   "metadata": {
    "collapsed": false,
    "pycharm": {
     "name": "#%% md\n"
    }
   }
  },
  {
   "cell_type": "code",
   "execution_count": null,
   "outputs": [],
   "source": [
    "ok_lab = [0, 1, 2, 3, 4, 5, 6, 7, 8, 9]\n",
    "i = 1  # 파일명을 다르게 지정하기 위한 변수\n",
    "\n",
    "for img, lab in zip(x_train, y_train):\n",
    "    img_fashion = Image.fromarray(img)\n",
    "    if lab in ok_lab:\n",
    "        # file dir 생성\n",
    "        createDirectory('Img_test/train')\n",
    "        img_path = './Img_test/train'\n",
    "\n",
    "        # 파일명 ex : 0_1.jpg\n",
    "        if lab == 0:\n",
    "            createDirectory(img_path + '/T-shirt-top/')\n",
    "            img_fashion.save(img_path + '/T-shirt-top/' + str(lab) + '_' + str(i) + '.jpeg', 'JPEG')\n",
    "        elif lab == 1:\n",
    "            createDirectory(img_path + '/Trouser/')\n",
    "            img_fashion.save(img_path + '/Trouser/' + str(lab) + '_' + str(i) + '.jpg', 'JPEG')\n",
    "        elif lab == 2:\n",
    "            createDirectory(img_path + '/Pullover/')\n",
    "            img_fashion.save(img_path + '/Pullover/' + str(lab) + '_' + str(i) + '.jpg', 'JPEG')\n",
    "        elif lab == 3:\n",
    "            createDirectory(img_path + '/Dress/')\n",
    "            img_fashion.save(img_path + '/Dress/' + str(lab) + '_' + str(i) + '.jpg', 'JPEG')\n",
    "        elif lab == 4:\n",
    "            createDirectory(img_path + '/Coat/')\n",
    "            img_fashion.save(img_path + '/Coat/' + str(lab) + '_' + str(i) + '.jpg', 'JPEG')\n",
    "        elif lab == 5:\n",
    "            createDirectory(img_path + '/Sandal/')\n",
    "            img_fashion.save(img_path + '/Sandal/' + str(lab) + '_' + str(i) + '.jpg', 'JPEG')\n",
    "        elif lab == 6:\n",
    "            createDirectory(img_path + '/Shirt/')\n",
    "            img_fashion.save(img_path + '/Shirt/' + str(lab) + '_' + str(i) + '.jpg', 'JPEG')\n",
    "        elif lab == 7:\n",
    "            createDirectory(img_path + '/Sneaker/')\n",
    "            img_fashion.save(img_path + '/Sneaker/' + str(lab) + '_' + str(i) + '.jpg', 'JPEG')\n",
    "        elif lab == 8:\n",
    "            createDirectory(img_path + '/Bag/')\n",
    "            img_fashion.save(img_path + '/Bag/' + str(lab) + '_' + str(i) + '.jpg', 'JPEG')\n",
    "        elif lab == 9:\n",
    "            createDirectory(img_path + '/Ankle boot/')\n",
    "            img_fashion.save(img_path + '/Ankle boot/' + str(lab) + '_' + str(i) + '.jpg', 'JPEG')\n",
    "        else:\n",
    "            img_fashion.save(img_path + '/else/' + str(lab) + '_' + str(i) + '.jpg', 'JPEG')\n",
    "    i += 1"
   ],
   "metadata": {
    "collapsed": false,
    "pycharm": {
     "name": "#%%\n"
    }
   }
  },
  {
   "cell_type": "markdown",
   "source": [
    "## test img dir 생성 및 img 생성"
   ],
   "metadata": {
    "collapsed": false,
    "pycharm": {
     "name": "#%% md\n"
    }
   }
  },
  {
   "cell_type": "code",
   "execution_count": 1,
   "outputs": [
    {
     "ename": "NameError",
     "evalue": "name 'x_test' is not defined",
     "output_type": "error",
     "traceback": [
      "\u001B[0;31m---------------------------------------------------------------------------\u001B[0m",
      "\u001B[0;31mNameError\u001B[0m                                 Traceback (most recent call last)",
      "Input \u001B[0;32mIn [1]\u001B[0m, in \u001B[0;36m<cell line: 4>\u001B[0;34m()\u001B[0m\n\u001B[1;32m      1\u001B[0m ok_lab \u001B[38;5;241m=\u001B[39m [\u001B[38;5;241m0\u001B[39m, \u001B[38;5;241m1\u001B[39m, \u001B[38;5;241m2\u001B[39m, \u001B[38;5;241m3\u001B[39m, \u001B[38;5;241m4\u001B[39m, \u001B[38;5;241m5\u001B[39m, \u001B[38;5;241m6\u001B[39m, \u001B[38;5;241m7\u001B[39m, \u001B[38;5;241m8\u001B[39m, \u001B[38;5;241m9\u001B[39m]\n\u001B[1;32m      2\u001B[0m i \u001B[38;5;241m=\u001B[39m \u001B[38;5;241m1\u001B[39m  \u001B[38;5;66;03m# 파일명을 다르게 지정하기 위한 변수\u001B[39;00m\n\u001B[0;32m----> 4\u001B[0m \u001B[38;5;28;01mfor\u001B[39;00m img, lab \u001B[38;5;129;01min\u001B[39;00m \u001B[38;5;28mzip\u001B[39m(\u001B[43mx_test\u001B[49m, y_test):\n\u001B[1;32m      5\u001B[0m     img_fashion \u001B[38;5;241m=\u001B[39m Image\u001B[38;5;241m.\u001B[39mfromarray(img)\n\u001B[1;32m      6\u001B[0m     \u001B[38;5;28;01mif\u001B[39;00m lab \u001B[38;5;129;01min\u001B[39;00m ok_lab:\n\u001B[1;32m      7\u001B[0m         \u001B[38;5;66;03m# file dir 생성\u001B[39;00m\n",
      "\u001B[0;31mNameError\u001B[0m: name 'x_test' is not defined"
     ]
    }
   ],
   "source": [
    "ok_lab = [0, 1, 2, 3, 4, 5, 6, 7, 8, 9]\n",
    "i = 1  # 파일명을 다르게 지정하기 위한 변수\n",
    "\n",
    "for img, lab in zip(x_test, y_test):\n",
    "    img_fashion = Image.fromarray(img)\n",
    "    if lab in ok_lab:\n",
    "        # file dir 생성\n",
    "        createDirectory('Img_test/test')\n",
    "        img_path = './Img_test/test'\n",
    "\n",
    "        # 파일명 ex : 0_1.jpg\n",
    "        if lab == 0:\n",
    "            createDirectory(img_path + '/T-shirt-top/')\n",
    "            img_fashion.save(img_path + '/T-shirt-top/' + str(lab) + '_' + str(i) + '.jpeg', 'JPEG')\n",
    "        elif lab == 1:\n",
    "            createDirectory(img_path + '/Trouser/')\n",
    "            img_fashion.save(img_path + '/Trouser/' + str(lab) + '_' + str(i) + '.jpg', 'JPEG')\n",
    "        elif lab == 2:\n",
    "            createDirectory(img_path + '/Pullover/')\n",
    "            img_fashion.save(img_path + '/Pullover/' + str(lab) + '_' + str(i) + '.jpg', 'JPEG')\n",
    "        elif lab == 3:\n",
    "            createDirectory(img_path + '/Dress/')\n",
    "            img_fashion.save(img_path + '/Dress/' + str(lab) + '_' + str(i) + '.jpg', 'JPEG')\n",
    "        elif lab == 4:\n",
    "            createDirectory(img_path + '/Coat/')\n",
    "            img_fashion.save(img_path + '/Coat/' + str(lab) + '_' + str(i) + '.jpg', 'JPEG')\n",
    "        elif lab == 5:\n",
    "            createDirectory(img_path + '/Sandal/')\n",
    "            img_fashion.save(img_path + '/Sandal/' + str(lab) + '_' + str(i) + '.jpg', 'JPEG')\n",
    "        elif lab == 6:\n",
    "            createDirectory(img_path + '/Shirt/')\n",
    "            img_fashion.save(img_path + '/Shirt/' + str(lab) + '_' + str(i) + '.jpg', 'JPEG')\n",
    "        elif lab == 7:\n",
    "            createDirectory(img_path + '/Sneaker/')\n",
    "            img_fashion.save(img_path + '/Sneaker/' + str(lab) + '_' + str(i) + '.jpg', 'JPEG')\n",
    "        elif lab == 8:\n",
    "            createDirectory(img_path + '/Bag/')\n",
    "            img_fashion.save(img_path + '/Bag/' + str(lab) + '_' + str(i) + '.jpg', 'JPEG')\n",
    "        elif lab == 9:\n",
    "            createDirectory(img_path + '/Ankle boot/')\n",
    "            img_fashion.save(img_path + '/Ankle boot/' + str(lab) + '_' + str(i) + '.jpg', 'JPEG')\n",
    "        else:\n",
    "            img_fashion.save(img_path + '/else/' + str(lab) + '_' + str(i) + '.jpg', 'JPEG')\n",
    "    i += 1"
   ],
   "metadata": {
    "collapsed": false,
    "pycharm": {
     "name": "#%%\n"
    }
   }
  },
  {
   "cell_type": "code",
   "execution_count": null,
   "outputs": [],
   "source": [],
   "metadata": {
    "collapsed": false,
    "pycharm": {
     "name": "#%%\n"
    }
   }
  }
 ],
 "metadata": {
  "kernelspec": {
   "display_name": "Python 3",
   "language": "python",
   "name": "python3"
  },
  "language_info": {
   "codemirror_mode": {
    "name": "ipython",
    "version": 2
   },
   "file_extension": ".py",
   "mimetype": "text/x-python",
   "name": "python",
   "nbconvert_exporter": "python",
   "pygments_lexer": "ipython2",
   "version": "2.7.6"
  }
 },
 "nbformat": 4,
 "nbformat_minor": 0
}